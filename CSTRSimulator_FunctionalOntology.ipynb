{
 "cells": [
  {
   "cell_type": "code",
   "execution_count": 1,
   "metadata": {},
   "outputs": [],
   "source": [
    "#load packages\n",
    "\n",
    "import numpy as np\n",
    "import pandas as pd\n",
    "import matplotlib.pyplot as plt\n",
    "from scipy.integrate import odeint\n",
    "from scipy.interpolate import interp1d"
   ]
  },
  {
   "cell_type": "markdown",
   "metadata": {},
   "source": [
    "## Problem statement:\n",
    "\n",
    "The synthetic process is to simulate a continous stirred tank reactor (CSTR). Reactant A flows at flow rate Q, initial temperature T_in, and initial concentration of C_{A,in}. The reactor has volume V. Reactant A is degraded to product B (A->B). The reaction is irreversible and exothermic, and degradation rate is temperature-dependent. The higher the temperature, the faster the degradation rate. A cooling jacket is wrapped around the reactor to control the temperature. Chemical A is toxic but B is not. To discarchge the effluent to lake or river, it requires the concentration of A below a threshold (i.e., 0.2 mol/L). For safety reason, the reactor temperatuer shall not exceed 400 Kelvin. The cooling water has temperature adjustable range between 250 K and 350 K."
   ]
  },
  {
   "cell_type": "markdown",
   "metadata": {},
   "source": [
    "<img src=\"CSTR.png\" width=400 height=300 />"
   ]
  },
  {
   "cell_type": "markdown",
   "metadata": {},
   "source": [
    "## Objective\n",
    "\n",
    "The objective is to control the process so that the reaction occurs at optimal temperature so that the effluent concentration of C_{A,out} is minimal or below threshold. Here the controllable variable is T_C, cooling water temperature. Conditions such as inlet temperature, inlet concentration, as well as flow rate, change over time."
   ]
  },
  {
   "cell_type": "markdown",
   "metadata": {},
   "source": [
    "## Data generation\n",
    "\n",
    "The first step is to generate synthetic data. The CSTR has a relatively simple process, the conversion of chemical A to B with an irreversible and exothermic reaction can be described by kinetic mechanism. "
   ]
  },
  {
   "cell_type": "code",
   "execution_count": 2,
   "metadata": {},
   "outputs": [],
   "source": [
    "# define CSTR model\n",
    "def cstr(x,t,Tc, Cin, Q, Tin):\n",
    "    # x contains:\n",
    "    # Concentration of A in reactor (Ca)\n",
    "    Ca = x[0]\n",
    "    \n",
    "    # and temperature in reactor (T)\n",
    "    T = x[1]\n",
    "\n",
    "    # Feed Temperature (K)\n",
    "    Tf = Tin\n",
    "    \n",
    "    # Feed Concentration (mol/m^3)\n",
    "    Caf = Cin\n",
    "    \n",
    "    # Parameters:\n",
    "    # Volumetric Flowrate (m^3/sec)\n",
    "    q = Q\n",
    "    \n",
    "    # Volume of CSTR (m^3)\n",
    "    V = 100\n",
    "    \n",
    "    # Density of A-B Mixture (kg/m^3)\n",
    "    rho = 1000\n",
    "    \n",
    "    # Heat capacity of A-B Mixture (J/kg-K)\n",
    "    Cp = 0.239\n",
    "    \n",
    "    # Heat of reaction for A->B (J/mol)\n",
    "    mdelH = 5e4\n",
    "    \n",
    "    # E - Activation energy in the Arrhenius Equation (J/mol)\n",
    "    # R - Universal Gas Constant = 8.31451 J/mol-K\n",
    "    EoverR = 8750\n",
    "    \n",
    "    # Pre-exponential factor (1/sec)\n",
    "    k0 = 7.2e10\n",
    "    \n",
    "    # U - Overall Heat Transfer Coefficient (W/m^2-K)\n",
    "    # A - Area - this value is specific for the U calculation (m^2)\n",
    "    UA = 5e4\n",
    "    \n",
    "    # reaction rate\n",
    "    rA = k0*np.exp(-EoverR/T)*Ca\n",
    "    \n",
    "    # Calculate concentration derivative\n",
    "    dCadt = q/V*(Caf - Ca) - rA\n",
    "    \n",
    "    # Calculate temperature derivative\n",
    "    dTdt = q/V*(Tf - T) \\\n",
    "            + mdelH/(rho*Cp)*rA \\\n",
    "            + UA/V/rho/Cp*(Tc-T)\n",
    "    xdot = np.zeros(2)\n",
    "    \n",
    "    # it outputs dCa/dt and dT/dt\n",
    "    xdot[0] = dCadt\n",
    "    xdot[1] = dTdt\n",
    "    return xdot"
   ]
  },
  {
   "cell_type": "code",
   "execution_count": 162,
   "metadata": {},
   "outputs": [],
   "source": [
    "## Change levels here:\n",
    "\n",
    "# Steady State Initial Conditions for the States\n",
    "Ca_ss = 0.8\n",
    "T_ss = 350\n",
    "\n",
    "x0 = np.empty(2)\n",
    "x0[0] = Ca_ss\n",
    "x0[1] = T_ss\n",
    "\n",
    "# Steady State Initial Condition\n",
    "Tc_ss = 275\n",
    "Cin_ss = 1\n",
    "Q_ss = 100\n",
    "Tin_ss = 345"
   ]
  },
  {
   "cell_type": "code",
   "execution_count": 163,
   "metadata": {},
   "outputs": [],
   "source": [
    "# Time Interval (min)\n",
    "t = np.linspace(0,500,5001)\n"
   ]
  },
  {
   "cell_type": "code",
   "execution_count": 164,
   "metadata": {},
   "outputs": [],
   "source": [
    "# Store results for plotting\n",
    "t_level = np.linspace(0, 500, 51)\n",
    "\n",
    "T_level = np.ones(len(t_level)) * T_ss\n",
    "Tc_level = np.ones(len(t_level)) * Tc_ss\n",
    "Cin_level = np.ones(len(t_level))*Cin_ss\n",
    "Q_level = np.ones(len(t_level))*Q_ss\n",
    "Tin_level = np.ones(len(t_level))*Tin_ss\n",
    "\n",
    "\n",
    "\n",
    "# Step cooling temperature\n",
    "#Tc_level[10:20]  = 303.1\n",
    "#Tc_level[20:30] = 304.0\n",
    "\n",
    "#Tc_level[30:35] = 301.0\n",
    "#Tc_level[35:]    = 303.0\n",
    "\n",
    "# Step inlet concentration of A\n",
    "#Cin_level[10:30]  = 0.8\n",
    "#Cin_level[30:36]  = 0.9\n",
    "#Cin_level[36:]  = 0.92\n",
    "\n",
    "# Step flow rate\n",
    "#Q_level[10:20]  = 98\n",
    "#Q_level[20:28]  = 105\n",
    "#Q_level[28:]  = 100\n",
    "\n",
    "# Step flow rate\n",
    "#Tin_level[20:35]  = 348\n",
    "#Tin_level[35:46]  = 353\n"
   ]
  },
  {
   "cell_type": "code",
   "execution_count": 165,
   "metadata": {},
   "outputs": [],
   "source": [
    "Tc_linear = interp1d(t_level, Tc_level)\n",
    "#Tc_cubic = interp1d(t_level, Tc_level, kind='cubic') \n",
    "Cin_linear = interp1d(t_level, Cin_level)\n",
    "#Cin_cubic = interp1d(t_level, Cin_level, kind='cubic') \n",
    "Q_linear = interp1d(t_level, Q_level)\n",
    "#Q_cubic = interp1d(t_level, Q_level, kind='cubic')\n",
    "Tin_linear = interp1d(t_level, Tin_level)\n",
    "#Tin_cubic = interp1d(t_level, Tin_level, kind='cubic') "
   ]
  },
  {
   "cell_type": "code",
   "execution_count": 166,
   "metadata": {},
   "outputs": [
    {
     "data": {
      "text/plain": [
       "array([0.000e+00, 1.000e-01, 2.000e-01, ..., 4.998e+02, 4.999e+02,\n",
       "       5.000e+02])"
      ]
     },
     "execution_count": 166,
     "metadata": {},
     "output_type": "execute_result"
    }
   ],
   "source": [
    "t"
   ]
  },
  {
   "cell_type": "code",
   "execution_count": 27,
   "metadata": {},
   "outputs": [
    {
     "data": {
      "image/png": "[encoded data removed]",
      "text/plain": [
       "<Figure size 432x288 with 1 Axes>"
      ]
     },
     "metadata": {
      "needs_background": "light"
     },
     "output_type": "display_data"
    }
   ],
   "source": [
    "plt.plot(t_level, Tc_level, 'o', label='data', markersize = 8, mfc='none')\n",
    "plt.plot(t, Tc_linear(t), '.', label='linear')\n",
    "#plt.plot(t, Tc_cubic(t), '--', label='cubic')\n",
    "plt.legend(loc='best')\n",
    "plt.show()"
   ]
  },
  {
   "cell_type": "code",
   "execution_count": 28,
   "metadata": {},
   "outputs": [
    {
     "data": {
      "image/png": "[encoded data removed]",
      "text/plain": [
       "<Figure size 432x288 with 1 Axes>"
      ]
     },
     "metadata": {
      "needs_background": "light"
     },
     "output_type": "display_data"
    }
   ],
   "source": [
    "plt.plot(t_level, Cin_level, 'o', label='data', markersize = 8, mfc='none')\n",
    "plt.plot(t, Cin_linear(t), '.', label='linear')\n",
    "#plt.plot(t, Cin_cubic(t), '--', label='cubic')\n",
    "plt.legend(loc='best')\n",
    "plt.show()"
   ]
  },
  {
   "cell_type": "code",
   "execution_count": 29,
   "metadata": {},
   "outputs": [
    {
     "data": {
      "image/png": "[encoded data removed]",
      "text/plain": [
       "<Figure size 432x288 with 1 Axes>"
      ]
     },
     "metadata": {
      "needs_background": "light"
     },
     "output_type": "display_data"
    }
   ],
   "source": [
    "plt.plot(t_level, Q_level, 'o', label='data', markersize = 8, mfc='none')\n",
    "plt.plot(t, Q_linear(t), '.', label='linear')\n",
    "#plt.plot(t, Q_cubic(t), '--', label='cubic')\n",
    "plt.legend(loc='best')\n",
    "plt.show()"
   ]
  },
  {
   "cell_type": "code",
   "execution_count": 30,
   "metadata": {},
   "outputs": [
    {
     "data": {
      "image/png": "[encoded data removed]",
      "text/plain": [
       "<Figure size 432x288 with 1 Axes>"
      ]
     },
     "metadata": {
      "needs_background": "light"
     },
     "output_type": "display_data"
    }
   ],
   "source": [
    "plt.plot(t_level, Tin_level, 'o', label='data', markersize = 8, mfc='none')\n",
    "plt.plot(t, Tin_linear(t), '.', label='linear')\n",
    "#plt.plot(t, Q_cubic(t), '--', label='cubic')\n",
    "plt.legend(loc='best')\n",
    "plt.show()"
   ]
  },
  {
   "cell_type": "code",
   "execution_count": 167,
   "metadata": {},
   "outputs": [],
   "source": [
    "Tc = Tc_linear(t)\n",
    "Cin = Cin_linear(t)\n",
    "Q = Q_linear(t)\n",
    "Tin = Tin_linear(t)\n",
    "Ca = np.ones(len(t)) * Ca_ss\n",
    "T = np.ones(len(t)) * T_ss"
   ]
  },
  {
   "cell_type": "code",
   "execution_count": 168,
   "metadata": {},
   "outputs": [],
   "source": [
    "## Change noise level here\n",
    "\n",
    "Tc = Tc + np.random.normal(0, 1, 5001)\n",
    "Cin = Cin + np.random.normal(0, .05, 5001)\n",
    "Q = Q + np.random.normal(0, 0.5, 5001)\n",
    "Tin = Tin + np.random.normal(0, 0.05, 5001)"
   ]
  },
  {
   "cell_type": "code",
   "execution_count": 169,
   "metadata": {},
   "outputs": [],
   "source": [
    "# Simulate CSTR\n",
    "\n",
    "#for i in range(1:18)\n",
    "    for i in range(len(t)-1):\n",
    "        ts = [t[i],t[i+1]]\n",
    "        y = odeint(cstr,x0,ts,args=(Tc[i+1], Cin[i+1], Q[i+1], Tin[i+1]))\n",
    "        Ca[i+1] = y[-1][0]\n",
    "        T[i+1] = y[-1][1]\n",
    "        x0[0] = Ca[i+1]\n",
    "        x0[1] = T[i+1]\n",
    "#         data = np.vstack((t,Tc,T)) # vertical stack\n",
    "#         data = data.T              # transpose data\n",
    "#         np.savetxt('cstr_step_tests_functional_ontology_linear_smooth.txt',data,delimiter=',',\\\n",
    "#                header='Time,Tc,T',comments='')\n",
    "#         df = pd.DataFrame()\n",
    "\n",
    "#         df[\"time\"] = t\n",
    "#         df[\"coolingTemp\"] = Tc\n",
    "#         df[\"concentrationA_inlet\"] = Cin\n",
    "#         df[\"Temp_inlet\"] = Tin\n",
    "#         df[\"flowRate\"] = Q\n",
    "#         df[\"concentrationA\"] = Ca\n",
    "#         df[\"Temp\"] = T\n",
    "\n",
    "#         df.to_csv(\"/mnt/DATA/Tin & Tc Variation/data_345_Tin_275Tc_2.csv\", index=False)\n",
    "    \n",
    "    \n",
    "    \n",
    "    \n",
    "# Construct results and save data file\n",
    "# Column 1 = time\n",
    "# Column 2 = cooling temperature\n",
    "# Column 3 = reactor temperature\n",
    "data = np.vstack((t,Tc,T)) # vertical stack\n",
    "data = data.T              # transpose data\n",
    "np.savetxt('cstr_step_tests_functional_ontology_linear_smooth.txt',data,delimiter=',',\\\n",
    "           header='Time,Tc,T',comments='')\n"
   ]
  },
  {
   "cell_type": "code",
   "execution_count": 47,
   "metadata": {},
   "outputs": [
    {
     "data": {
      "image/png": "[encoded data removed]",
      "text/plain": [
       "<Figure size 432x288 with 2 Axes>"
      ]
     },
     "metadata": {
      "needs_background": "light"
     },
     "output_type": "display_data"
    }
   ],
   "source": [
    "# Plot the results\n",
    "plt.figure()\n",
    "plt.subplot(2,1,1)\n",
    "plt.plot(t,Tc,'b--',lw=3)\n",
    "plt.ylabel('Cooling T (K)')\n",
    "plt.legend(['Jacket Temperature'],loc='best')\n",
    "\n",
    "plt.subplot(2,1,2)\n",
    "plt.plot(t,Cin,'r-',lw=3)\n",
    "plt.ylabel('Ca,in (mol/m^3)')\n",
    "plt.xlabel('Time (min)')\n",
    "plt.legend(['Ca,in'],loc='best')\n",
    "\n",
    "\n",
    "plt.show()"
   ]
  },
  {
   "cell_type": "code",
   "execution_count": 35,
   "metadata": {},
   "outputs": [
    {
     "data": {
      "image/png": "[encoded data removed]",
      "text/plain": [
       "<Figure size 432x288 with 2 Axes>"
      ]
     },
     "metadata": {
      "needs_background": "light"
     },
     "output_type": "display_data"
    }
   ],
   "source": [
    "plt.figure()\n",
    "\n",
    "plt.subplot(2,1,1)\n",
    "plt.plot(t,T,'b--',lw=3)\n",
    "plt.ylabel('T (K)')\n",
    "plt.xlabel('Time (min)')\n",
    "plt.legend(['Reactor Temperature'],loc='best')\n",
    "\n",
    "plt.subplot(2,1,2)\n",
    "plt.plot(t,Ca,'r-',lw=3)\n",
    "plt.ylabel('Ca (mol/L)')\n",
    "plt.legend(['Reactor Concentration'],loc='best')\n",
    "\n",
    "plt.show()"
   ]
  },
  {
   "cell_type": "code",
   "execution_count": 36,
   "metadata": {},
   "outputs": [
    {
     "data": {
      "image/png": "[encoded data removed]",
      "text/plain": [
       "<Figure size 432x288 with 2 Axes>"
      ]
     },
     "metadata": {
      "needs_background": "light"
     },
     "output_type": "display_data"
    }
   ],
   "source": [
    "plt.figure()\n",
    "plt.subplot(2,1,1)\n",
    "plt.plot(t,Tin,'b--',lw=3)\n",
    "plt.ylabel('Inlet T (K)')\n",
    "plt.xlabel('Time (min)')\n",
    "plt.legend(['Inlet Temperature'],loc='best')\n",
    "\n",
    "plt.subplot(2,1,2)\n",
    "plt.plot(t,Q,'r-',lw=3)\n",
    "plt.ylabel('Flow rate (m^3/sec)')\n",
    "plt.legend(['Flow rate'],loc='best')\n",
    "plt.show()"
   ]
  },
  {
   "cell_type": "code",
   "execution_count": 170,
   "metadata": {},
   "outputs": [],
   "source": [
    "df = pd.DataFrame()\n",
    "\n",
    "df[\"time\"] = t\n",
    "df[\"coolingTemp\"] = Tc\n",
    "df[\"concentrationA_inlet\"] = Cin\n",
    "df[\"Temp_inlet\"] = Tin\n",
    "df[\"flowRate\"] = Q\n",
    "df[\"concentrationA\"] = Ca\n",
    "df[\"Temp\"] = T"
   ]
  },
  {
   "cell_type": "code",
   "execution_count": 171,
   "metadata": {},
   "outputs": [
    {
     "data": {
      "text/html": [
       "<div>\n",
       "<style scoped>\n",
       "    .dataframe tbody tr th:only-of-type {\n",
       "        vertical-align: middle;\n",
       "    }\n",
       "\n",
       "    .dataframe tbody tr th {\n",
       "        vertical-align: top;\n",
       "    }\n",
       "\n",
       "    .dataframe thead th {\n",
       "        text-align: right;\n",
       "    }\n",
       "</style>\n",
       "<table border=\"1\" class=\"dataframe\">\n",
       "  <thead>\n",
       "    <tr style=\"text-align: right;\">\n",
       "      <th></th>\n",
       "      <th>time</th>\n",
       "      <th>coolingTemp</th>\n",
       "      <th>concentrationA_inlet</th>\n",
       "      <th>Temp_inlet</th>\n",
       "      <th>flowRate</th>\n",
       "      <th>concentrationA</th>\n",
       "      <th>Temp</th>\n",
       "    </tr>\n",
       "  </thead>\n",
       "  <tbody>\n",
       "    <tr>\n",
       "      <th>0</th>\n",
       "      <td>0.0</td>\n",
       "      <td>274.846973</td>\n",
       "      <td>1.042039</td>\n",
       "      <td>345.027678</td>\n",
       "      <td>100.536308</td>\n",
       "      <td>0.800000</td>\n",
       "      <td>350.000000</td>\n",
       "    </tr>\n",
       "    <tr>\n",
       "      <th>1</th>\n",
       "      <td>0.1</td>\n",
       "      <td>275.552745</td>\n",
       "      <td>0.944867</td>\n",
       "      <td>344.911249</td>\n",
       "      <td>100.336949</td>\n",
       "      <td>0.739848</td>\n",
       "      <td>350.139598</td>\n",
       "    </tr>\n",
       "    <tr>\n",
       "      <th>2</th>\n",
       "      <td>0.2</td>\n",
       "      <td>275.154115</td>\n",
       "      <td>0.981389</td>\n",
       "      <td>344.973309</td>\n",
       "      <td>99.575355</td>\n",
       "      <td>0.696625</td>\n",
       "      <td>348.667000</td>\n",
       "    </tr>\n",
       "    <tr>\n",
       "      <th>3</th>\n",
       "      <td>0.3</td>\n",
       "      <td>275.141649</td>\n",
       "      <td>1.018052</td>\n",
       "      <td>344.980998</td>\n",
       "      <td>99.695617</td>\n",
       "      <td>0.674500</td>\n",
       "      <td>345.017765</td>\n",
       "    </tr>\n",
       "    <tr>\n",
       "      <th>4</th>\n",
       "      <td>0.4</td>\n",
       "      <td>275.631089</td>\n",
       "      <td>1.022592</td>\n",
       "      <td>344.952136</td>\n",
       "      <td>100.105725</td>\n",
       "      <td>0.670985</td>\n",
       "      <td>339.410292</td>\n",
       "    </tr>\n",
       "    <tr>\n",
       "      <th>...</th>\n",
       "      <td>...</td>\n",
       "      <td>...</td>\n",
       "      <td>...</td>\n",
       "      <td>...</td>\n",
       "      <td>...</td>\n",
       "      <td>...</td>\n",
       "      <td>...</td>\n",
       "    </tr>\n",
       "    <tr>\n",
       "      <th>4996</th>\n",
       "      <td>499.6</td>\n",
       "      <td>273.953922</td>\n",
       "      <td>1.026406</td>\n",
       "      <td>344.933013</td>\n",
       "      <td>100.085977</td>\n",
       "      <td>0.991923</td>\n",
       "      <td>298.469618</td>\n",
       "    </tr>\n",
       "    <tr>\n",
       "      <th>4997</th>\n",
       "      <td>499.7</td>\n",
       "      <td>274.584650</td>\n",
       "      <td>0.960061</td>\n",
       "      <td>344.957363</td>\n",
       "      <td>100.708143</td>\n",
       "      <td>0.987616</td>\n",
       "      <td>298.435840</td>\n",
       "    </tr>\n",
       "    <tr>\n",
       "      <th>4998</th>\n",
       "      <td>499.8</td>\n",
       "      <td>274.123351</td>\n",
       "      <td>0.935427</td>\n",
       "      <td>344.994712</td>\n",
       "      <td>99.749043</td>\n",
       "      <td>0.981424</td>\n",
       "      <td>298.289374</td>\n",
       "    </tr>\n",
       "    <tr>\n",
       "      <th>4999</th>\n",
       "      <td>499.9</td>\n",
       "      <td>274.199775</td>\n",
       "      <td>0.951225</td>\n",
       "      <td>345.007162</td>\n",
       "      <td>99.486674</td>\n",
       "      <td>0.977349</td>\n",
       "      <td>298.182054</td>\n",
       "    </tr>\n",
       "    <tr>\n",
       "      <th>5000</th>\n",
       "      <td>500.0</td>\n",
       "      <td>274.591241</td>\n",
       "      <td>0.960842</td>\n",
       "      <td>344.951096</td>\n",
       "      <td>99.539247</td>\n",
       "      <td>0.974580</td>\n",
       "      <td>298.168971</td>\n",
       "    </tr>\n",
       "  </tbody>\n",
       "</table>\n",
       "<p>5001 rows × 7 columns</p>\n",
       "</div>"
      ],
      "text/plain": [
       "       time  coolingTemp  concentrationA_inlet  Temp_inlet    flowRate  \\\n",
       "0       0.0   274.846973              1.042039  345.027678  100.536308   \n",
       "1       0.1   275.552745              0.944867  344.911249  100.336949   \n",
       "2       0.2   275.154115              0.981389  344.973309   99.575355   \n",
       "3       0.3   275.141649              1.018052  344.980998   99.695617   \n",
       "4       0.4   275.631089              1.022592  344.952136  100.105725   \n",
       "...     ...          ...                   ...         ...         ...   \n",
       "4996  499.6   273.953922              1.026406  344.933013  100.085977   \n",
       "4997  499.7   274.584650              0.960061  344.957363  100.708143   \n",
       "4998  499.8   274.123351              0.935427  344.994712   99.749043   \n",
       "4999  499.9   274.199775              0.951225  345.007162   99.486674   \n",
       "5000  500.0   274.591241              0.960842  344.951096   99.539247   \n",
       "\n",
       "      concentrationA        Temp  \n",
       "0           0.800000  350.000000  \n",
       "1           0.739848  350.139598  \n",
       "2           0.696625  348.667000  \n",
       "3           0.674500  345.017765  \n",
       "4           0.670985  339.410292  \n",
       "...              ...         ...  \n",
       "4996        0.991923  298.469618  \n",
       "4997        0.987616  298.435840  \n",
       "4998        0.981424  298.289374  \n",
       "4999        0.977349  298.182054  \n",
       "5000        0.974580  298.168971  \n",
       "\n",
       "[5001 rows x 7 columns]"
      ]
     },
     "execution_count": 171,
     "metadata": {},
     "output_type": "execute_result"
    }
   ],
   "source": [
    "df"
   ]
  },
  {
   "cell_type": "code",
   "execution_count": 172,
   "metadata": {},
   "outputs": [],
   "source": [
    "df.to_csv(\"/mnt/DATA/Tin & Tc Variation/data_345_Tin_275Tc_2.csv\", index=False)"
   ]
  },
  {
   "cell_type": "markdown",
   "metadata": {},
   "source": [
    "## Reference\n",
    "\n",
    "http://apmonitor.com/do/index.php/Main/NonlinearControl\n",
    "\n",
    "https://apmonitor.com/pdc/index.php/Main/StirredReactor\n",
    "    "
   ]
  },
  {
   "cell_type": "code",
   "execution_count": 15,
   "metadata": {},
   "outputs": [
    {
     "data": {
      "text/plain": [
       "array([25, 25, 25, 25, 25, 25, 25, 25, 25, 25, 25, 25, 25, 25, 25, 25, 25,\n",
       "       25, 25, 25, 25, 25, 25, 25, 25])"
      ]
     },
     "execution_count": 15,
     "metadata": {},
     "output_type": "execute_result"
    }
   ],
   "source": [
    "n = np.arange(1,19)\n",
    "n\n",
    "\n",
    "np.repeat(25,25)\n"
   ]
  }
 ],
 "metadata": {
  "kernelspec": {
   "display_name": "Python 3",
   "language": "python",
   "name": "python3"
  },
  "language_info": {
   "codemirror_mode": {
    "name": "ipython",
    "version": 3
   },
   "file_extension": ".py",
   "mimetype": "text/x-python",
   "name": "python",
   "nbconvert_exporter": "python",
   "pygments_lexer": "ipython3",
   "version": "3.6.10"
  }
 },
 "nbformat": 4,
 "nbformat_minor": 4
}
