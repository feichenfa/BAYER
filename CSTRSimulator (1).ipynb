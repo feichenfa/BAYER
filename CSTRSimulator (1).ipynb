{
 "cells": [
  {
   "cell_type": "code",
   "execution_count": 1,
   "metadata": {},
   "outputs": [],
   "source": [
    "#load packages\n",
    "\n",
    "import numpy as np\n",
    "import pandas as pd\n",
    "import matplotlib.pyplot as plt\n",
    "from scipy.integrate import odeint"
   ]
  },
  {
   "cell_type": "markdown",
   "metadata": {},
   "source": [
    "## Problem statement:\n",
    "\n",
    "The synthetic process is to simulate a continous stirred tank reactor (CSTR). Reactant A flows at flow rate Q, initial temperature T_in, and initial concentration of C_{A,in}. The reactor has volume V. Reactant A is degraded to product B (A->B). The reaction is irreversible and exothermic, and degradation rate is temperature-dependent. The higher the temperature, the faster the degradation rate. A cooling jacket is wrapped around the reactor to control the temperature. Chemical A is toxic but B is not. To discarchge the effluent to lake or river, it requires the concentration of A below a threshold (i.e., 0.2 mol/L). For safety reason, the reactor temperatuer shall not exceed 400 Kelvin. The cooling water has temperature adjustable range between 250 K and 350 K."
   ]
  },
  {
   "cell_type": "markdown",
   "metadata": {},
   "source": [
    "<img src=\"CSTR.png\" width=400 height=300 />"
   ]
  },
  {
   "cell_type": "markdown",
   "metadata": {},
   "source": [
    "## Objective\n",
    "\n",
    "The objective is to control the process so that the reaction occurs at optimal temperature so that the effluent concentration of C_{A,out} is minimal or below threshold. Here the controllable variable is T_C, cooling water temperature. Conditions such as inlet temperature, inlet concentration, as well as flow rate, change over time."
   ]
  },
  {
   "cell_type": "markdown",
   "metadata": {},
   "source": [
    "## Data generation\n",
    "\n",
    "The first step is to generate synthetic data. The CSTR has a relatively simple process, the conversion of chemical A to B with an irreversible and exothermic reaction can be described by kinetic mechanism. "
   ]
  },
  {
   "cell_type": "code",
   "execution_count": 2,
   "metadata": {},
   "outputs": [],
   "source": [
    "# define CSTR model\n",
    "def cstr(x,t,Tc, Cin, Q, Tin):\n",
    "    # x contains:\n",
    "    # Concentration of A in reactor (Ca)\n",
    "    Ca = x[0]\n",
    "    \n",
    "    # and temperature in reactor (T)\n",
    "    T = x[1]\n",
    "\n",
    "    # Feed Temperature (K)\n",
    "    Tf = Tin\n",
    "    \n",
    "    # Feed Concentration (mol/m^3)\n",
    "    Caf = Cin\n",
    "    \n",
    "    # Parameters:\n",
    "    # Volumetric Flowrate (m^3/sec)\n",
    "    q = Q\n",
    "    \n",
    "    # Volume of CSTR (m^3)\n",
    "    V = 100\n",
    "    \n",
    "    # Density of A-B Mixture (kg/m^3)\n",
    "    rho = 1000\n",
    "    \n",
    "    # Heat capacity of A-B Mixture (J/kg-K)\n",
    "    Cp = 0.239\n",
    "    \n",
    "    # Heat of reaction for A->B (J/mol)\n",
    "    mdelH = 5e4\n",
    "    \n",
    "    # E - Activation energy in the Arrhenius Equation (J/mol)\n",
    "    # R - Universal Gas Constant = 8.31451 J/mol-K\n",
    "    EoverR = 8750\n",
    "    \n",
    "    # Pre-exponential factor (1/sec)\n",
    "    k0 = 7.2e10\n",
    "    \n",
    "    # U - Overall Heat Transfer Coefficient (W/m^2-K)\n",
    "    # A - Area - this value is specific for the U calculation (m^2)\n",
    "    UA = 5e4\n",
    "    \n",
    "    # reaction rate\n",
    "    rA = k0*np.exp(-EoverR/T)*Ca\n",
    "    \n",
    "    # Calculate concentration derivative\n",
    "    dCadt = q/V*(Caf - Ca) - rA\n",
    "    \n",
    "    # Calculate temperature derivative\n",
    "    dTdt = q/V*(Tf - T) \\\n",
    "            + mdelH/(rho*Cp)*rA \\\n",
    "            + UA/V/rho/Cp*(Tc-T)\n",
    "    xdot = np.zeros(2)\n",
    "    \n",
    "    # it outputs dCa/dt and dT/dt\n",
    "    xdot[0] = dCadt\n",
    "    xdot[1] = dTdt\n",
    "    return xdot"
   ]
  },
  {
   "cell_type": "code",
   "execution_count": 3,
   "metadata": {},
   "outputs": [],
   "source": [
    "# Steady State Initial Conditions for the States\n",
    "Ca_ss = 0.87725294608097\n",
    "T_ss = 324.475443431599\n",
    "\n",
    "x0 = np.empty(2)\n",
    "x0[0] = Ca_ss\n",
    "x0[1] = T_ss\n",
    "\n",
    "# Steady State Initial Condition\n",
    "Tc_ss = 300.0\n",
    "Cin_ss = 1.0\n",
    "Q_ss = 100\n",
    "Tin_ss = 350"
   ]
  },
  {
   "cell_type": "code",
   "execution_count": 4,
   "metadata": {},
   "outputs": [],
   "source": [
    "# Time Interval (min)\n",
    "t = np.linspace(0,500,5001)\n",
    "\n",
    "# Store results for plotting\n",
    "Ca = np.ones(len(t)) * Ca_ss\n",
    "T = np.ones(len(t)) * T_ss\n",
    "Tc = np.ones(len(t)) * Tc_ss\n",
    "Cin = np.ones(len(t))*Cin_ss\n",
    "Q = np.ones(len(t))*Q_ss\n",
    "Tin = np.ones(len(t))*Tin_ss"
   ]
  },
  {
   "cell_type": "code",
   "execution_count": 5,
   "metadata": {},
   "outputs": [],
   "source": [
    "\n",
    "# Step cooling temperature\n",
    "Tc[100:1000]  = 303.1\n",
    "Tc[1000:2000] = 304.0\n",
    "Tc[2000:3500] = 300.0\n",
    "Tc[3500:4000] = 301.0\n",
    "Tc[4000:4500] = 301.5\n",
    "Tc[4500:]    = 303.0\n",
    "\n",
    "# Step inlet concentration of A\n",
    "Cin[1000:1500]  = 0.8\n",
    "Cin[1500:2500]  = 0.9\n",
    "Cin[3500:4000]  = 0.92\n",
    "\n",
    "# Step flow rate\n",
    "Q[1000:1500]  = 98\n",
    "Q[1500:2500]  = 105\n",
    "Q[2500:]  = 100\n",
    "\n",
    "# Step flow rate\n",
    "Tin[2000:3000]  = 348\n",
    "Tin[3000:4500]  = 353\n"
   ]
  },
  {
   "cell_type": "code",
   "execution_count": 6,
   "metadata": {},
   "outputs": [],
   "source": [
    "#Tc = Tc + np.random.normal(0, 1, 5001)\n",
    "Cin = Cin + np.random.normal(0, 0.005, 5001)\n",
    "Q = Q + np.random.normal(0, 0.5, 5001)\n",
    "Tin = Tin + np.random.normal(0, 0.05, 5001)"
   ]
  },
  {
   "cell_type": "code",
   "execution_count": 7,
   "metadata": {},
   "outputs": [],
   "source": [
    "# Simulate CSTR\n",
    "for i in range(len(t)-1):\n",
    "    ts = [t[i],t[i+1]]\n",
    "    y = odeint(cstr,x0,ts,args=(Tc[i+1], Cin[i+1], Q[i+1], Tin[i+1]))\n",
    "    Ca[i+1] = y[-1][0]\n",
    "    T[i+1] = y[-1][1]\n",
    "    x0[0] = Ca[i+1]\n",
    "    x0[1] = T[i+1]\n",
    "\n",
    "# Construct results and save data file\n",
    "# Column 1 = time\n",
    "# Column 2 = cooling temperature\n",
    "# Column 3 = reactor temperature\n",
    "data = np.vstack((t,Tc,T)) # vertical stack\n",
    "data = data.T              # transpose data\n",
    "np.savetxt('cstr_step_tests.txt',data,delimiter=',',\\\n",
    "           header='Time,Tc,T',comments='')\n"
   ]
  },
  {
   "cell_type": "code",
   "execution_count": 8,
   "metadata": {},
   "outputs": [
    {
     "data": {
      "image/png": "[encoded data removed]",
      "text/plain": [
       "<Figure size 432x288 with 2 Axes>"
      ]
     },
     "metadata": {
      "needs_background": "light"
     },
     "output_type": "display_data"
    }
   ],
   "source": [
    "# Plot the results\n",
    "plt.figure()\n",
    "plt.subplot(2,1,1)\n",
    "plt.plot(t,Tc,'b--',lw=3)\n",
    "plt.ylabel('Cooling T (K)')\n",
    "plt.legend(['Jacket Temperature'],loc='best')\n",
    "\n",
    "plt.subplot(2,1,2)\n",
    "plt.plot(t,Cin,'r-',lw=3)\n",
    "plt.ylabel('Ca,in (mol/m^3)')\n",
    "plt.xlabel('Time (min)')\n",
    "plt.legend(['Ca,in'],loc='best')\n",
    "\n",
    "\n",
    "plt.show()"
   ]
  },
  {
   "cell_type": "code",
   "execution_count": 9,
   "metadata": {},
   "outputs": [
    {
     "data": {
      "image/png": "[encoded data removed]",
      "text/plain": [
       "<Figure size 432x288 with 2 Axes>"
      ]
     },
     "metadata": {
      "needs_background": "light"
     },
     "output_type": "display_data"
    }
   ],
   "source": [
    "plt.figure()\n",
    "\n",
    "plt.subplot(2,1,1)\n",
    "plt.plot(t,T,'b--',lw=3)\n",
    "plt.ylabel('T (K)')\n",
    "plt.xlabel('Time (min)')\n",
    "plt.legend(['Reactor Temperature'],loc='best')\n",
    "\n",
    "plt.subplot(2,1,2)\n",
    "plt.plot(t,Ca,'r-',lw=3)\n",
    "plt.ylabel('Ca (mol/L)')\n",
    "plt.legend(['Reactor Concentration'],loc='best')\n",
    "\n",
    "plt.show()"
   ]
  },
  {
   "cell_type": "code",
   "execution_count": 10,
   "metadata": {},
   "outputs": [
    {
     "data": {
      "image/png": "[encoded data removed]",
      "text/plain": [
       "<Figure size 432x288 with 2 Axes>"
      ]
     },
     "metadata": {
      "needs_background": "light"
     },
     "output_type": "display_data"
    }
   ],
   "source": [
    "plt.figure()\n",
    "plt.subplot(2,1,1)\n",
    "plt.plot(t,Tin,'b--',lw=3)\n",
    "plt.ylabel('Inlet T (K)')\n",
    "plt.xlabel('Time (min)')\n",
    "plt.legend(['Inlet Temperature'],loc='best')\n",
    "\n",
    "plt.subplot(2,1,2)\n",
    "plt.plot(t,Q,'r-',lw=3)\n",
    "plt.ylabel('Flow rate (m^3/sec)')\n",
    "plt.legend(['Flow rate'],loc='best')\n",
    "plt.show()"
   ]
  },
  {
   "cell_type": "code",
   "execution_count": 11,
   "metadata": {},
   "outputs": [],
   "source": [
    "df = pd.DataFrame()\n",
    "\n",
    "df[\"time\"] = t\n",
    "df[\"coolingTemp\"] = Tc\n",
    "df[\"concentrationA_inlet\"] = Cin\n",
    "df[\"Temp_inlet\"] = Tin\n",
    "df[\"flowRate\"] = Q\n",
    "df[\"concentrationA\"] = Ca\n",
    "df[\"Temp\"] = T"
   ]
  },
  {
   "cell_type": "code",
   "execution_count": 12,
   "metadata": {},
   "outputs": [
    {
     "data": {
      "text/html": [
       "<div>\n",
       "<style scoped>\n",
       "    .dataframe tbody tr th:only-of-type {\n",
       "        vertical-align: middle;\n",
       "    }\n",
       "\n",
       "    .dataframe tbody tr th {\n",
       "        vertical-align: top;\n",
       "    }\n",
       "\n",
       "    .dataframe thead th {\n",
       "        text-align: right;\n",
       "    }\n",
       "</style>\n",
       "<table border=\"1\" class=\"dataframe\">\n",
       "  <thead>\n",
       "    <tr style=\"text-align: right;\">\n",
       "      <th></th>\n",
       "      <th>time</th>\n",
       "      <th>coolingTemp</th>\n",
       "      <th>concentrationA_inlet</th>\n",
       "      <th>Temp_inlet</th>\n",
       "      <th>flowRate</th>\n",
       "      <th>concentrationA</th>\n",
       "      <th>Temp</th>\n",
       "    </tr>\n",
       "  </thead>\n",
       "  <tbody>\n",
       "    <tr>\n",
       "      <th>0</th>\n",
       "      <td>0.0</td>\n",
       "      <td>300.0</td>\n",
       "      <td>1.005721</td>\n",
       "      <td>349.971585</td>\n",
       "      <td>100.378117</td>\n",
       "      <td>0.877253</td>\n",
       "      <td>324.475443</td>\n",
       "    </tr>\n",
       "    <tr>\n",
       "      <th>1</th>\n",
       "      <td>0.1</td>\n",
       "      <td>300.0</td>\n",
       "      <td>0.996156</td>\n",
       "      <td>349.984979</td>\n",
       "      <td>99.911718</td>\n",
       "      <td>0.876882</td>\n",
       "      <td>324.471327</td>\n",
       "    </tr>\n",
       "    <tr>\n",
       "      <th>2</th>\n",
       "      <td>0.2</td>\n",
       "      <td>300.0</td>\n",
       "      <td>1.000786</td>\n",
       "      <td>350.030465</td>\n",
       "      <td>100.384014</td>\n",
       "      <td>0.877039</td>\n",
       "      <td>324.483159</td>\n",
       "    </tr>\n",
       "    <tr>\n",
       "      <th>3</th>\n",
       "      <td>0.3</td>\n",
       "      <td>300.0</td>\n",
       "      <td>1.002189</td>\n",
       "      <td>349.959085</td>\n",
       "      <td>99.624769</td>\n",
       "      <td>0.877224</td>\n",
       "      <td>324.469100</td>\n",
       "    </tr>\n",
       "    <tr>\n",
       "      <th>4</th>\n",
       "      <td>0.4</td>\n",
       "      <td>300.0</td>\n",
       "      <td>1.001222</td>\n",
       "      <td>350.020165</td>\n",
       "      <td>99.845943</td>\n",
       "      <td>0.877331</td>\n",
       "      <td>324.467922</td>\n",
       "    </tr>\n",
       "    <tr>\n",
       "      <th>...</th>\n",
       "      <td>...</td>\n",
       "      <td>...</td>\n",
       "      <td>...</td>\n",
       "      <td>...</td>\n",
       "      <td>...</td>\n",
       "      <td>...</td>\n",
       "      <td>...</td>\n",
       "    </tr>\n",
       "    <tr>\n",
       "      <th>4996</th>\n",
       "      <td>499.6</td>\n",
       "      <td>303.0</td>\n",
       "      <td>0.983177</td>\n",
       "      <td>350.029926</td>\n",
       "      <td>100.045980</td>\n",
       "      <td>0.784940</td>\n",
       "      <td>332.451487</td>\n",
       "    </tr>\n",
       "    <tr>\n",
       "      <th>4997</th>\n",
       "      <td>499.7</td>\n",
       "      <td>303.0</td>\n",
       "      <td>1.001176</td>\n",
       "      <td>350.009031</td>\n",
       "      <td>99.925008</td>\n",
       "      <td>0.785548</td>\n",
       "      <td>332.433950</td>\n",
       "    </tr>\n",
       "    <tr>\n",
       "      <th>4998</th>\n",
       "      <td>499.8</td>\n",
       "      <td>303.0</td>\n",
       "      <td>0.995901</td>\n",
       "      <td>349.990175</td>\n",
       "      <td>100.280401</td>\n",
       "      <td>0.785682</td>\n",
       "      <td>332.422273</td>\n",
       "    </tr>\n",
       "    <tr>\n",
       "      <th>4999</th>\n",
       "      <td>499.9</td>\n",
       "      <td>303.0</td>\n",
       "      <td>0.991654</td>\n",
       "      <td>350.008787</td>\n",
       "      <td>100.036713</td>\n",
       "      <td>0.785373</td>\n",
       "      <td>332.407159</td>\n",
       "    </tr>\n",
       "    <tr>\n",
       "      <th>5000</th>\n",
       "      <td>500.0</td>\n",
       "      <td>303.0</td>\n",
       "      <td>1.007492</td>\n",
       "      <td>349.996770</td>\n",
       "      <td>99.315597</td>\n",
       "      <td>0.786473</td>\n",
       "      <td>332.379608</td>\n",
       "    </tr>\n",
       "  </tbody>\n",
       "</table>\n",
       "<p>5001 rows × 7 columns</p>\n",
       "</div>"
      ],
      "text/plain": [
       "       time  coolingTemp  concentrationA_inlet  Temp_inlet    flowRate  \\\n",
       "0       0.0        300.0              1.005721  349.971585  100.378117   \n",
       "1       0.1        300.0              0.996156  349.984979   99.911718   \n",
       "2       0.2        300.0              1.000786  350.030465  100.384014   \n",
       "3       0.3        300.0              1.002189  349.959085   99.624769   \n",
       "4       0.4        300.0              1.001222  350.020165   99.845943   \n",
       "...     ...          ...                   ...         ...         ...   \n",
       "4996  499.6        303.0              0.983177  350.029926  100.045980   \n",
       "4997  499.7        303.0              1.001176  350.009031   99.925008   \n",
       "4998  499.8        303.0              0.995901  349.990175  100.280401   \n",
       "4999  499.9        303.0              0.991654  350.008787  100.036713   \n",
       "5000  500.0        303.0              1.007492  349.996770   99.315597   \n",
       "\n",
       "      concentrationA        Temp  \n",
       "0           0.877253  324.475443  \n",
       "1           0.876882  324.471327  \n",
       "2           0.877039  324.483159  \n",
       "3           0.877224  324.469100  \n",
       "4           0.877331  324.467922  \n",
       "...              ...         ...  \n",
       "4996        0.784940  332.451487  \n",
       "4997        0.785548  332.433950  \n",
       "4998        0.785682  332.422273  \n",
       "4999        0.785373  332.407159  \n",
       "5000        0.786473  332.379608  \n",
       "\n",
       "[5001 rows x 7 columns]"
      ]
     },
     "execution_count": 12,
     "metadata": {},
     "output_type": "execute_result"
    }
   ],
   "source": [
    "df"
   ]
  },
  {
   "cell_type": "code",
   "execution_count": 13,
   "metadata": {},
   "outputs": [],
   "source": [
    "df.to_csv(\"cstr_leaf_synethic_example.csv\", index=False)"
   ]
  },
  {
   "cell_type": "markdown",
   "metadata": {},
   "source": [
    "## Reference\n",
    "\n",
    "http://apmonitor.com/do/index.php/Main/NonlinearControl\n",
    "\n",
    "https://apmonitor.com/pdc/index.php/Main/StirredReactor\n",
    "    "
   ]
  }
 ],
 "metadata": {
  "kernelspec": {
   "display_name": "Python 3",
   "language": "python",
   "name": "python3"
  },
  "language_info": {
   "codemirror_mode": {
    "name": "ipython",
    "version": 3
   },
   "file_extension": ".py",
   "mimetype": "text/x-python",
   "name": "python",
   "nbconvert_exporter": "python",
   "pygments_lexer": "ipython3",
   "version": "3.6.10"
  }
 },
 "nbformat": 4,
 "nbformat_minor": 4
}
